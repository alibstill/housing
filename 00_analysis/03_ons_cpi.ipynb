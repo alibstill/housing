{
 "cells": [
  {
   "cell_type": "markdown",
   "id": "fcd8c8e3-2058-4d80-9abd-764d92342308",
   "metadata": {},
   "source": [
    "# ONS CPI spike"
   ]
  },
  {
   "cell_type": "code",
   "execution_count": 106,
   "id": "d7aff622-179d-4a01-bfa9-0ad4b47ad915",
   "metadata": {},
   "outputs": [],
   "source": [
    "import requests\n",
    "import pandas as pd\n",
    "import matplotlib.pyplot as plt\n",
    "import seaborn as sns\n",
    "import io\n",
    "from datetime import datetime"
   ]
  },
  {
   "cell_type": "markdown",
   "id": "d3eeffd0-c7cd-4462-a3f4-7fe15e1d49eb",
   "metadata": {},
   "source": [
    "Ideally I would like to be able to retrieve the CPI index programmatically."
   ]
  },
  {
   "cell_type": "markdown",
   "id": "5dfb1069-1f86-4a56-90a3-0db85811d4f9",
   "metadata": {},
   "source": [
    "## ONS API\n",
    "\n",
    "Unfortunately, the `cpih01` api only returns data up until June 2021. "
   ]
  },
  {
   "cell_type": "code",
   "execution_count": 116,
   "id": "27077cd2-ac11-4eb7-8917-6558a1c2d7f4",
   "metadata": {},
   "outputs": [],
   "source": [
    "url = \"https://api.beta.ons.gov.uk/v1/datasets/cpih01/editions/time-series/versions/6/observations?time=*&geography=K02000001&aggregate=cpih1dim1A0\"\n",
    "\n",
    "response = requests.get(url)\n",
    "response.raise_for_status()\n",
    "data = response.json()"
   ]
  },
  {
   "cell_type": "code",
   "execution_count": 117,
   "id": "3247b475-5fad-44b8-9c02-3036e43a3ec6",
   "metadata": {},
   "outputs": [
    {
     "data": {
      "text/html": [
       "<div>\n",
       "<style scoped>\n",
       "    .dataframe tbody tr th:only-of-type {\n",
       "        vertical-align: middle;\n",
       "    }\n",
       "\n",
       "    .dataframe tbody tr th {\n",
       "        vertical-align: top;\n",
       "    }\n",
       "\n",
       "    .dataframe thead th {\n",
       "        text-align: right;\n",
       "    }\n",
       "</style>\n",
       "<table border=\"1\" class=\"dataframe\">\n",
       "  <thead>\n",
       "    <tr style=\"text-align: right;\">\n",
       "      <th></th>\n",
       "      <th>time</th>\n",
       "      <th>observation</th>\n",
       "    </tr>\n",
       "  </thead>\n",
       "  <tbody>\n",
       "    <tr>\n",
       "      <th>0</th>\n",
       "      <td>May-04</td>\n",
       "      <td>77.9</td>\n",
       "    </tr>\n",
       "    <tr>\n",
       "      <th>1</th>\n",
       "      <td>May-13</td>\n",
       "      <td>98.2</td>\n",
       "    </tr>\n",
       "    <tr>\n",
       "      <th>2</th>\n",
       "      <td>Sep-16</td>\n",
       "      <td>101.5</td>\n",
       "    </tr>\n",
       "    <tr>\n",
       "      <th>3</th>\n",
       "      <td>May-88</td>\n",
       "      <td>48.0</td>\n",
       "    </tr>\n",
       "    <tr>\n",
       "      <th>4</th>\n",
       "      <td>Apr-18</td>\n",
       "      <td>105.5</td>\n",
       "    </tr>\n",
       "  </tbody>\n",
       "</table>\n",
       "</div>"
      ],
      "text/plain": [
       "     time observation\n",
       "0  May-04        77.9\n",
       "1  May-13        98.2\n",
       "2  Sep-16       101.5\n",
       "3  May-88        48.0\n",
       "4  Apr-18       105.5"
      ]
     },
     "execution_count": 117,
     "metadata": {},
     "output_type": "execute_result"
    }
   ],
   "source": [
    "\n",
    "df_data = pd.DataFrame([{ \"time\": x[\"dimensions\"][\"Time\"][\"label\"], \"observation\": x[\"observation\"]} for x in data[\"observations\"]])\n",
    "df_data.head()"
   ]
  },
  {
   "cell_type": "code",
   "execution_count": 118,
   "id": "3be03e1d-7afc-401b-b2b4-40610d53abf8",
   "metadata": {},
   "outputs": [
    {
     "name": "stdout",
     "output_type": "stream",
     "text": [
      "<class 'pandas.core.frame.DataFrame'>\n",
      "RangeIndex: 398 entries, 0 to 397\n",
      "Data columns (total 2 columns):\n",
      " #   Column       Non-Null Count  Dtype \n",
      "---  ------       --------------  ----- \n",
      " 0   time         398 non-null    object\n",
      " 1   observation  398 non-null    object\n",
      "dtypes: object(2)\n",
      "memory usage: 6.3+ KB\n"
     ]
    }
   ],
   "source": [
    "df_data.info()"
   ]
  },
  {
   "cell_type": "code",
   "execution_count": 119,
   "id": "a8bc6739-2b4e-42c3-9e09-3a56621d6a1b",
   "metadata": {},
   "outputs": [
    {
     "name": "stdout",
     "output_type": "stream",
     "text": [
      "<class 'pandas.core.frame.DataFrame'>\n",
      "RangeIndex: 398 entries, 0 to 397\n",
      "Data columns (total 2 columns):\n",
      " #   Column       Non-Null Count  Dtype  \n",
      "---  ------       --------------  -----  \n",
      " 0   time         398 non-null    object \n",
      " 1   observation  398 non-null    float64\n",
      "dtypes: float64(1), object(1)\n",
      "memory usage: 6.3+ KB\n"
     ]
    }
   ],
   "source": [
    "df_data[\"observation\"] = df_data[\"observation\"].astype(float)\n",
    "df_data.info()"
   ]
  },
  {
   "cell_type": "code",
   "execution_count": 120,
   "id": "45ee3668-e011-40fd-96b1-51e766ea072b",
   "metadata": {},
   "outputs": [
    {
     "data": {
      "text/html": [
       "<div>\n",
       "<style scoped>\n",
       "    .dataframe tbody tr th:only-of-type {\n",
       "        vertical-align: middle;\n",
       "    }\n",
       "\n",
       "    .dataframe tbody tr th {\n",
       "        vertical-align: top;\n",
       "    }\n",
       "\n",
       "    .dataframe thead th {\n",
       "        text-align: right;\n",
       "    }\n",
       "</style>\n",
       "<table border=\"1\" class=\"dataframe\">\n",
       "  <thead>\n",
       "    <tr style=\"text-align: right;\">\n",
       "      <th></th>\n",
       "      <th>time</th>\n",
       "      <th>observation</th>\n",
       "      <th>date</th>\n",
       "    </tr>\n",
       "  </thead>\n",
       "  <tbody>\n",
       "    <tr>\n",
       "      <th>0</th>\n",
       "      <td>May-04</td>\n",
       "      <td>77.9</td>\n",
       "      <td>2004-05-01</td>\n",
       "    </tr>\n",
       "    <tr>\n",
       "      <th>1</th>\n",
       "      <td>May-13</td>\n",
       "      <td>98.2</td>\n",
       "      <td>2013-05-01</td>\n",
       "    </tr>\n",
       "    <tr>\n",
       "      <th>2</th>\n",
       "      <td>Sep-16</td>\n",
       "      <td>101.5</td>\n",
       "      <td>2016-09-01</td>\n",
       "    </tr>\n",
       "    <tr>\n",
       "      <th>3</th>\n",
       "      <td>May-88</td>\n",
       "      <td>48.0</td>\n",
       "      <td>1988-05-01</td>\n",
       "    </tr>\n",
       "    <tr>\n",
       "      <th>4</th>\n",
       "      <td>Apr-18</td>\n",
       "      <td>105.5</td>\n",
       "      <td>2018-04-01</td>\n",
       "    </tr>\n",
       "  </tbody>\n",
       "</table>\n",
       "</div>"
      ],
      "text/plain": [
       "     time  observation       date\n",
       "0  May-04         77.9 2004-05-01\n",
       "1  May-13         98.2 2013-05-01\n",
       "2  Sep-16        101.5 2016-09-01\n",
       "3  May-88         48.0 1988-05-01\n",
       "4  Apr-18        105.5 2018-04-01"
      ]
     },
     "execution_count": 120,
     "metadata": {},
     "output_type": "execute_result"
    }
   ],
   "source": [
    "df_data[\"date\"] = pd.to_datetime(df_data[\"time\"], format=\"%b-%y\")\n",
    "df_data.head()"
   ]
  },
  {
   "cell_type": "code",
   "execution_count": 121,
   "id": "85c47d97-07a4-4266-8f5e-90fbc256ae59",
   "metadata": {},
   "outputs": [
    {
     "data": {
      "text/html": [
       "<div>\n",
       "<style scoped>\n",
       "    .dataframe tbody tr th:only-of-type {\n",
       "        vertical-align: middle;\n",
       "    }\n",
       "\n",
       "    .dataframe tbody tr th {\n",
       "        vertical-align: top;\n",
       "    }\n",
       "\n",
       "    .dataframe thead th {\n",
       "        text-align: right;\n",
       "    }\n",
       "</style>\n",
       "<table border=\"1\" class=\"dataframe\">\n",
       "  <thead>\n",
       "    <tr style=\"text-align: right;\">\n",
       "      <th></th>\n",
       "      <th>time</th>\n",
       "      <th>observation</th>\n",
       "      <th>date</th>\n",
       "    </tr>\n",
       "  </thead>\n",
       "  <tbody>\n",
       "    <tr>\n",
       "      <th>0</th>\n",
       "      <td>Jan-88</td>\n",
       "      <td>46.9</td>\n",
       "      <td>1988-01-01</td>\n",
       "    </tr>\n",
       "    <tr>\n",
       "      <th>1</th>\n",
       "      <td>Feb-88</td>\n",
       "      <td>47.0</td>\n",
       "      <td>1988-02-01</td>\n",
       "    </tr>\n",
       "    <tr>\n",
       "      <th>2</th>\n",
       "      <td>Mar-88</td>\n",
       "      <td>47.2</td>\n",
       "      <td>1988-03-01</td>\n",
       "    </tr>\n",
       "    <tr>\n",
       "      <th>3</th>\n",
       "      <td>Apr-88</td>\n",
       "      <td>47.8</td>\n",
       "      <td>1988-04-01</td>\n",
       "    </tr>\n",
       "    <tr>\n",
       "      <th>4</th>\n",
       "      <td>May-88</td>\n",
       "      <td>48.0</td>\n",
       "      <td>1988-05-01</td>\n",
       "    </tr>\n",
       "  </tbody>\n",
       "</table>\n",
       "</div>"
      ],
      "text/plain": [
       "     time  observation       date\n",
       "0  Jan-88         46.9 1988-01-01\n",
       "1  Feb-88         47.0 1988-02-01\n",
       "2  Mar-88         47.2 1988-03-01\n",
       "3  Apr-88         47.8 1988-04-01\n",
       "4  May-88         48.0 1988-05-01"
      ]
     },
     "execution_count": 121,
     "metadata": {},
     "output_type": "execute_result"
    }
   ],
   "source": [
    "df_data = df_data.sort_values(by=\"date\").reset_index(drop=True)\n",
    "df_data.head()"
   ]
  },
  {
   "cell_type": "code",
   "execution_count": 122,
   "id": "09ad9d75-4a21-46a9-b862-deefc7d34ee4",
   "metadata": {},
   "outputs": [
    {
     "data": {
      "text/html": [
       "<div>\n",
       "<style scoped>\n",
       "    .dataframe tbody tr th:only-of-type {\n",
       "        vertical-align: middle;\n",
       "    }\n",
       "\n",
       "    .dataframe tbody tr th {\n",
       "        vertical-align: top;\n",
       "    }\n",
       "\n",
       "    .dataframe thead th {\n",
       "        text-align: right;\n",
       "    }\n",
       "</style>\n",
       "<table border=\"1\" class=\"dataframe\">\n",
       "  <thead>\n",
       "    <tr style=\"text-align: right;\">\n",
       "      <th></th>\n",
       "      <th>time</th>\n",
       "      <th>observation</th>\n",
       "      <th>date</th>\n",
       "    </tr>\n",
       "  </thead>\n",
       "  <tbody>\n",
       "    <tr>\n",
       "      <th>393</th>\n",
       "      <td>Oct-20</td>\n",
       "      <td>109.2</td>\n",
       "      <td>2020-10-01</td>\n",
       "    </tr>\n",
       "    <tr>\n",
       "      <th>394</th>\n",
       "      <td>Nov-20</td>\n",
       "      <td>109.1</td>\n",
       "      <td>2020-11-01</td>\n",
       "    </tr>\n",
       "    <tr>\n",
       "      <th>395</th>\n",
       "      <td>Dec-20</td>\n",
       "      <td>109.4</td>\n",
       "      <td>2020-12-01</td>\n",
       "    </tr>\n",
       "    <tr>\n",
       "      <th>396</th>\n",
       "      <td>Jan-21</td>\n",
       "      <td>109.3</td>\n",
       "      <td>2021-01-01</td>\n",
       "    </tr>\n",
       "    <tr>\n",
       "      <th>397</th>\n",
       "      <td>Feb-21</td>\n",
       "      <td>109.4</td>\n",
       "      <td>2021-02-01</td>\n",
       "    </tr>\n",
       "  </tbody>\n",
       "</table>\n",
       "</div>"
      ],
      "text/plain": [
       "       time  observation       date\n",
       "393  Oct-20        109.2 2020-10-01\n",
       "394  Nov-20        109.1 2020-11-01\n",
       "395  Dec-20        109.4 2020-12-01\n",
       "396  Jan-21        109.3 2021-01-01\n",
       "397  Feb-21        109.4 2021-02-01"
      ]
     },
     "execution_count": 122,
     "metadata": {},
     "output_type": "execute_result"
    }
   ],
   "source": [
    "df_data.tail()"
   ]
  },
  {
   "cell_type": "code",
   "execution_count": 123,
   "id": "24b2d9d7-1fa0-45a5-9e32-c3b1719fd1ec",
   "metadata": {},
   "outputs": [
    {
     "data": {
      "image/png": "[encoded data removed]",
      "text/plain": [
       "<Figure size 640x480 with 1 Axes>"
      ]
     },
     "metadata": {},
     "output_type": "display_data"
    }
   ],
   "source": [
    "sns.lineplot(data=df_data, x=\"date\", y=\"observation\")\n",
    "plt.show()"
   ]
  },
  {
   "cell_type": "code",
   "execution_count": 124,
   "id": "f517c8ed-d20d-478c-a536-610517f71908",
   "metadata": {},
   "outputs": [],
   "source": [
    "def get_cpi(version: str = 6):\n",
    "    url = f\"https://api.beta.ons.gov.uk/v1/datasets/cpih01/editions/time-series/versions/{version}/observations?time=*&geography=K02000001&aggregate=cpih1dim1A0\"\n",
    "\n",
    "    response = requests.get(url)\n",
    "    response.raise_for_status()\n",
    "    data = response.json()\n",
    "    print(data)\n",
    "    if data[\"observations\"] is None:\n",
    "        return pd.DataFrame()\n",
    "\n",
    "    df_data = pd.DataFrame([{ \"time\": x[\"dimensions\"][\"Time\"][\"label\"], \"observation\": x[\"observation\"]} for x in data[\"observations\"]])\n",
    "    df_data[\"observation\"] = df_data[\"observation\"].astype(float)\n",
    "    df_data[\"date\"] = pd.to_datetime(df_data[\"time\"], format=\"%b-%y\")\n",
    "    df_data = df_data.sort_values(by=\"date\").reset_index(drop=True)\n",
    "    return df_data\n",
    "    "
   ]
  },
  {
   "cell_type": "code",
   "execution_count": 125,
   "id": "a439f1f6-6037-449b-89f8-aec2b6bcc07f",
   "metadata": {},
   "outputs": [
    {
     "name": "stdout",
     "output_type": "stream",
     "text": [
      "{'dimensions': {'aggregate': {'option': {'href': 'https://api.beta.ons.gov.uk/v1/code-lists/cpih1dim1aggid/codes/cpih1dim1A0', 'id': 'cpih1dim1A0'}}, 'geography': {'option': {'href': 'https://api.beta.ons.gov.uk/v1/code-lists/uk-only/codes/K02000001', 'id': 'K02000001'}}}, 'limit': 10000, 'links': {'dataset_metadata': {'href': 'https://api.beta.ons.gov.uk/v1/datasets/cpih01/editions/time-series/versions/12/metadata'}, 'self': {'href': 'https://api.beta.ons.gov.uk/v1/datasets/cpih01/editions/time-series/versions/12/observations?aggregate=cpih1dim1A0&geography=K02000001&time=*'}, 'version': {'href': 'https://api.beta.ons.gov.uk/v1/datasets/cpih01/editions/time-series/versions/12', 'id': '12'}}, 'observations': None, 'offset': 0, 'total_observations': 0, 'unit_of_measure': 'Index: 2015=100'}\n"
     ]
    },
    {
     "data": {
      "text/html": [
       "<div>\n",
       "<style scoped>\n",
       "    .dataframe tbody tr th:only-of-type {\n",
       "        vertical-align: middle;\n",
       "    }\n",
       "\n",
       "    .dataframe tbody tr th {\n",
       "        vertical-align: top;\n",
       "    }\n",
       "\n",
       "    .dataframe thead th {\n",
       "        text-align: right;\n",
       "    }\n",
       "</style>\n",
       "<table border=\"1\" class=\"dataframe\">\n",
       "  <thead>\n",
       "    <tr style=\"text-align: right;\">\n",
       "      <th></th>\n",
       "    </tr>\n",
       "  </thead>\n",
       "  <tbody>\n",
       "  </tbody>\n",
       "</table>\n",
       "</div>"
      ],
      "text/plain": [
       "Empty DataFrame\n",
       "Columns: []\n",
       "Index: []"
      ]
     },
     "execution_count": 125,
     "metadata": {},
     "output_type": "execute_result"
    }
   ],
   "source": [
    "df_cpi = get_cpi(version=12)\n",
    "df_cpi.tail()"
   ]
  },
  {
   "cell_type": "markdown",
   "id": "bb0fbce1-edcd-4e8d-8522-616b064dca80",
   "metadata": {},
   "source": [
    "## CPIH index\n",
    "\n",
    "It's possible that I just wasn't able to find the data on the ONS beta API. Another option is downloading csvs published on their website. \n",
    "\n",
    "This data was published on the [CPIH INDEX 00: ALL ITEMS 2015=100](https://www.ons.gov.uk/economy/inflationandpriceindices/timeseries/l522/mm23) page."
   ]
  },
  {
   "cell_type": "code",
   "execution_count": 126,
   "id": "a857ba62-53f7-4306-8414-5f43e97aab08",
   "metadata": {},
   "outputs": [],
   "source": [
    "from datetime import datetime\n",
    "\n",
    "def get_num_months(from_date, to_date = datetime.now()):\n",
    "    years = (to_date.year - from_date.year) * 12\n",
    "    months = to_date.month - to_date.month\n",
    "    return years + months"
   ]
  },
  {
   "cell_type": "code",
   "execution_count": 127,
   "id": "0e03cc86-3802-4828-bdde-7935c9c45278",
   "metadata": {},
   "outputs": [
    {
     "data": {
      "text/html": [
       "<div>\n",
       "<style scoped>\n",
       "    .dataframe tbody tr th:only-of-type {\n",
       "        vertical-align: middle;\n",
       "    }\n",
       "\n",
       "    .dataframe tbody tr th {\n",
       "        vertical-align: top;\n",
       "    }\n",
       "\n",
       "    .dataframe thead th {\n",
       "        text-align: right;\n",
       "    }\n",
       "</style>\n",
       "<table border=\"1\" class=\"dataframe\">\n",
       "  <thead>\n",
       "    <tr style=\"text-align: right;\">\n",
       "      <th></th>\n",
       "      <th>Title</th>\n",
       "      <th>CPIH INDEX 00: ALL ITEMS 2015=100</th>\n",
       "    </tr>\n",
       "  </thead>\n",
       "  <tbody>\n",
       "    <tr>\n",
       "      <th>632</th>\n",
       "      <td>2024 SEP</td>\n",
       "      <td>133.5</td>\n",
       "    </tr>\n",
       "    <tr>\n",
       "      <th>633</th>\n",
       "      <td>2024 OCT</td>\n",
       "      <td>134.3</td>\n",
       "    </tr>\n",
       "    <tr>\n",
       "      <th>634</th>\n",
       "      <td>2024 NOV</td>\n",
       "      <td>134.6</td>\n",
       "    </tr>\n",
       "    <tr>\n",
       "      <th>635</th>\n",
       "      <td>2024 DEC</td>\n",
       "      <td>135.1</td>\n",
       "    </tr>\n",
       "    <tr>\n",
       "      <th>636</th>\n",
       "      <td>2025 JAN</td>\n",
       "      <td>135.1</td>\n",
       "    </tr>\n",
       "  </tbody>\n",
       "</table>\n",
       "</div>"
      ],
      "text/plain": [
       "        Title CPIH INDEX 00: ALL ITEMS 2015=100\n",
       "632  2024 SEP                             133.5\n",
       "633  2024 OCT                             134.3\n",
       "634  2024 NOV                             134.6\n",
       "635  2024 DEC                             135.1\n",
       "636  2025 JAN                             135.1"
      ]
     },
     "execution_count": 127,
     "metadata": {},
     "output_type": "execute_result"
    }
   ],
   "source": [
    "uri = \"https://www.ons.gov.uk/generator?format=csv&uri=/economy/inflationandpriceindices/timeseries/l522/mm23\"\n",
    "response = requests.get(uri)\n",
    "df_cpih = pd.read_csv(io.BytesIO(response.content))\n",
    "\n",
    "num_months = get_num_months(datetime(1989,1,1))\n",
    "\n",
    "df_cpih = df_cpih.tail(num_months).copy()\n",
    "df_cpih.tail()"
   ]
  },
  {
   "cell_type": "code",
   "execution_count": 128,
   "id": "c9827a03-2aaa-4568-908d-49d8330bc954",
   "metadata": {},
   "outputs": [
    {
     "name": "stdout",
     "output_type": "stream",
     "text": [
      "<class 'pandas.core.frame.DataFrame'>\n",
      "RangeIndex: 432 entries, 205 to 636\n",
      "Data columns (total 2 columns):\n",
      " #   Column                             Non-Null Count  Dtype \n",
      "---  ------                             --------------  ----- \n",
      " 0   Title                              432 non-null    object\n",
      " 1   CPIH INDEX 00: ALL ITEMS 2015=100  432 non-null    object\n",
      "dtypes: object(2)\n",
      "memory usage: 6.9+ KB\n"
     ]
    }
   ],
   "source": [
    "df_cpih.info()"
   ]
  },
  {
   "cell_type": "code",
   "execution_count": 129,
   "id": "207e59a9-1b00-46b7-9015-9b1134f1e208",
   "metadata": {},
   "outputs": [
    {
     "data": {
      "text/html": [
       "<div>\n",
       "<style scoped>\n",
       "    .dataframe tbody tr th:only-of-type {\n",
       "        vertical-align: middle;\n",
       "    }\n",
       "\n",
       "    .dataframe tbody tr th {\n",
       "        vertical-align: top;\n",
       "    }\n",
       "\n",
       "    .dataframe thead th {\n",
       "        text-align: right;\n",
       "    }\n",
       "</style>\n",
       "<table border=\"1\" class=\"dataframe\">\n",
       "  <thead>\n",
       "    <tr style=\"text-align: right;\">\n",
       "      <th></th>\n",
       "      <th>Title</th>\n",
       "      <th>CPIH INDEX 00: ALL ITEMS 2015=100</th>\n",
       "      <th>date</th>\n",
       "      <th>index</th>\n",
       "    </tr>\n",
       "  </thead>\n",
       "  <tbody>\n",
       "    <tr>\n",
       "      <th>205</th>\n",
       "      <td>1989 FEB</td>\n",
       "      <td>49.7</td>\n",
       "      <td>1989-02-01</td>\n",
       "      <td>49.7</td>\n",
       "    </tr>\n",
       "    <tr>\n",
       "      <th>206</th>\n",
       "      <td>1989 MAR</td>\n",
       "      <td>50.0</td>\n",
       "      <td>1989-03-01</td>\n",
       "      <td>50.0</td>\n",
       "    </tr>\n",
       "    <tr>\n",
       "      <th>207</th>\n",
       "      <td>1989 APR</td>\n",
       "      <td>50.5</td>\n",
       "      <td>1989-04-01</td>\n",
       "      <td>50.5</td>\n",
       "    </tr>\n",
       "    <tr>\n",
       "      <th>208</th>\n",
       "      <td>1989 MAY</td>\n",
       "      <td>50.9</td>\n",
       "      <td>1989-05-01</td>\n",
       "      <td>50.9</td>\n",
       "    </tr>\n",
       "    <tr>\n",
       "      <th>209</th>\n",
       "      <td>1989 JUN</td>\n",
       "      <td>51.0</td>\n",
       "      <td>1989-06-01</td>\n",
       "      <td>51.0</td>\n",
       "    </tr>\n",
       "  </tbody>\n",
       "</table>\n",
       "</div>"
      ],
      "text/plain": [
       "        Title CPIH INDEX 00: ALL ITEMS 2015=100       date  index\n",
       "205  1989 FEB                              49.7 1989-02-01   49.7\n",
       "206  1989 MAR                              50.0 1989-03-01   50.0\n",
       "207  1989 APR                              50.5 1989-04-01   50.5\n",
       "208  1989 MAY                              50.9 1989-05-01   50.9\n",
       "209  1989 JUN                              51.0 1989-06-01   51.0"
      ]
     },
     "execution_count": 129,
     "metadata": {},
     "output_type": "execute_result"
    }
   ],
   "source": [
    "df_cpih[\"date\"] = pd.to_datetime(df_cpih[\"Title\"], format=\"%Y %b\")\n",
    "df_cpih[\"index\"] = df_cpih[\"CPIH INDEX 00: ALL ITEMS 2015=100\"].astype(float)\n",
    "df_cpih.head()"
   ]
  },
  {
   "cell_type": "code",
   "execution_count": 130,
   "id": "5a9ba2b2-fe48-43af-8314-42d866e56b5e",
   "metadata": {},
   "outputs": [
    {
     "data": {
      "image/png": "[encoded data removed]",
      "text/plain": [
       "<Figure size 640x480 with 1 Axes>"
      ]
     },
     "metadata": {},
     "output_type": "display_data"
    }
   ],
   "source": [
    "sns.lineplot(data=df_cpih, x=\"date\", y=\"index\")\n",
    "plt.show()"
   ]
  },
  {
   "cell_type": "markdown",
   "id": "e4054bb9-4713-45de-81a3-f2eec194fc00",
   "metadata": {},
   "source": [
    "## Conclusions\n",
    "\n",
    "Comparing the data from the beta API with the csv download, the index doesn't match but the graphs show a consistency. For our purposes (provide some comparison) and given our time limit, using the CSV download is sufficient."
   ]
  }
 ],
 "metadata": {
  "kernelspec": {
   "display_name": "Python [conda env:pandas]",
   "language": "python",
   "name": "conda-env-pandas-py"
  },
  "language_info": {
   "codemirror_mode": {
    "name": "ipython",
    "version": 3
   },
   "file_extension": ".py",
   "mimetype": "text/x-python",
   "name": "python",
   "nbconvert_exporter": "python",
   "pygments_lexer": "ipython3",
   "version": "3.11.10"
  }
 },
 "nbformat": 4,
 "nbformat_minor": 5
}
