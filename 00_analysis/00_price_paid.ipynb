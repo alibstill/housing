{
 "cells": [
  {
   "cell_type": "markdown",
   "id": "919ddf09-838f-49b9-9ada-579fa6abf8e6",
   "metadata": {},
   "source": [
    "# Price Paid"
   ]
  },
  {
   "cell_type": "code",
   "execution_count": 37,
   "id": "6cea56d7-27ff-4102-9926-0cb45e8d51a5",
   "metadata": {},
   "outputs": [],
   "source": [
    "import pandas as pd\n",
    "import matplotlib.pyplot as plt\n",
    "import seaborn as sns\n",
    "import numpy as np\n",
    "pd.set_option('display.float_format', lambda x: '%.2f' % x)"
   ]
  },
  {
   "cell_type": "markdown",
   "id": "b76340a3-9103-4c09-b3ef-3500e6c23e06",
   "metadata": {},
   "source": [
    "## Background\n",
    "\n",
    "The Price Paid data is published by the HM Land Registry. It contains information of all residential property sales in England and Wales that are sold for value and are lodged with us for registration. See [HM Land Registry Price Paid Data webpage](https://www.gov.uk/government/statistical-data-sets/price-paid-data-downloads#full-publication-update-history).\n",
    "\n",
    "Information is published monthly with a monthly lag e.g. December 2024 data was published on 29 January 2025. The data is updated on the 20th working day of each month.\n",
    "\n",
    "Currently, there is data available from 1 January 2025 to December 2024. The data is available in CSV and TXT format.\n",
    "\n",
    "It is possible to download different batch sizes:\n",
    "- all of the data (4.3GB): `http://prod.publicdata.landregistry.gov.uk.s3-website-eu-west-1.amazonaws.com/pp-complete.csv`\n",
    "- yearly data (110 - 170 MB): `http://prod.publicdata.landregistry.gov.uk.s3-website-eu-west-1.amazonaws.com/pp-2024.csv`\n",
    "- monthly data (18.5 MB): `http://prod.publicdata.landregistry.gov.uk.s3-website-eu-west-1.amazonaws.com/pp-monthly-update-new-version.csv`\n",
    "\n",
    "\n",
    "## What is excluded from the data:\n",
    "\n",
    "1. sales that have not been lodged with HM Land Registry\n",
    "2. sales that were not for value\n",
    "3. transfers, conveyances, assignments or leases at a premium with nominal rent, which are:\n",
    "- ‘Right to buy’ sales at a discount\n",
    "- subject to an existing mortgage\n",
    "- to effect the sale of a share in a property, for example, a transfer between parties on divorce\n",
    "- by way of a gift\n",
    "- under a compulsory purchase order\n",
    "- under a court order\n",
    "- to Trustees appointed under Deed of appointment\n",
    "4. Vesting Deeds Transmissions or Assents of more than one property\n",
    "\n",
    "### Download\n",
    "\n",
    "I will explore the latest monthly data:"
   ]
  },
  {
   "cell_type": "code",
   "execution_count": 7,
   "id": "9f3ca21f-0cba-42d7-a5c6-fff641c003b9",
   "metadata": {},
   "outputs": [
    {
     "name": "stdout",
     "output_type": "stream",
     "text": [
      "--2025-02-11 11:32:44--  http://prod.publicdata.landregistry.gov.uk.s3-website-eu-west-1.amazonaws.com/pp-monthly-update-new-version.csv\n",
      "Resolving prod.publicdata.landregistry.gov.uk.s3-website-eu-west-1.amazonaws.com (prod.publicdata.landregistry.gov.uk.s3-website-eu-west-1.amazonaws.com)... 52.92.18.68, 3.5.67.235, 52.218.41.12, ...\n",
      "Connecting to prod.publicdata.landregistry.gov.uk.s3-website-eu-west-1.amazonaws.com (prod.publicdata.landregistry.gov.uk.s3-website-eu-west-1.amazonaws.com)|52.92.18.68|:80... connected.\n",
      "HTTP request sent, awaiting response... 301 Moved Permanently\n",
      "Location: http://prod1.publicdata.landregistry.gov.uk.s3-website-eu-west-1.amazonaws.com/pp-monthly-update-new-version.csv [following]\n",
      "--2025-02-11 11:32:44--  http://prod1.publicdata.landregistry.gov.uk.s3-website-eu-west-1.amazonaws.com/pp-monthly-update-new-version.csv\n",
      "Resolving prod1.publicdata.landregistry.gov.uk.s3-website-eu-west-1.amazonaws.com (prod1.publicdata.landregistry.gov.uk.s3-website-eu-west-1.amazonaws.com)... 52.92.18.68, 3.5.67.235, 3.5.64.48, ...\n",
      "Reusing existing connection to prod.publicdata.landregistry.gov.uk.s3-website-eu-west-1.amazonaws.com:80.\n",
      "HTTP request sent, awaiting response... 200 OK\n",
      "Length: 13587954 (13M) [text/csv]\n",
      "Saving to: ‘data/pp-monthly-update-new-version.csv’\n",
      "\n",
      "pp-monthly-update-n 100%[===================>]  12.96M  17.1MB/s    in 0.8s    \n",
      "\n",
      "2025-02-11 11:32:45 (17.1 MB/s) - ‘data/pp-monthly-update-new-version.csv’ saved [13587954/13587954]\n",
      "\n"
     ]
    }
   ],
   "source": [
    "# if you do not have a /data/ directory locally, create one before running this command\n",
    "\n",
    "# !wget -P data http://prod.publicdata.landregistry.gov.uk.s3-website-eu-west-1.amazonaws.com/pp-monthly-update-new-version.csv"
   ]
  },
  {
   "cell_type": "code",
   "execution_count": 9,
   "id": "8e81b29e-ba21-45ba-a6ca-970ffb928f95",
   "metadata": {},
   "outputs": [
    {
     "data": {
      "text/html": [
       "<div>\n",
       "<style scoped>\n",
       "    .dataframe tbody tr th:only-of-type {\n",
       "        vertical-align: middle;\n",
       "    }\n",
       "\n",
       "    .dataframe tbody tr th {\n",
       "        vertical-align: top;\n",
       "    }\n",
       "\n",
       "    .dataframe thead th {\n",
       "        text-align: right;\n",
       "    }\n",
       "</style>\n",
       "<table border=\"1\" class=\"dataframe\">\n",
       "  <thead>\n",
       "    <tr style=\"text-align: right;\">\n",
       "      <th></th>\n",
       "      <th>{2ACACE8D-47C7-295E-E063-4804A8C0B0EB}</th>\n",
       "      <th>114000</th>\n",
       "      <th>2021-02-26 00:00</th>\n",
       "      <th>S63 7FR</th>\n",
       "      <th>S</th>\n",
       "      <th>N</th>\n",
       "      <th>L</th>\n",
       "      <th>28</th>\n",
       "      <th>Unnamed: 8</th>\n",
       "      <th>REED WALK</th>\n",
       "      <th>WATH UPON DEARNE</th>\n",
       "      <th>ROTHERHAM</th>\n",
       "      <th>ROTHERHAM.1</th>\n",
       "      <th>SOUTH YORKSHIRE</th>\n",
       "      <th>A</th>\n",
       "      <th>A.1</th>\n",
       "    </tr>\n",
       "  </thead>\n",
       "  <tbody>\n",
       "    <tr>\n",
       "      <th>0</th>\n",
       "      <td>{2ACACE8D-4887-295E-E063-4804A8C0B0EB}</td>\n",
       "      <td>158995</td>\n",
       "      <td>2021-03-11 00:00</td>\n",
       "      <td>S5 8DL</td>\n",
       "      <td>T</td>\n",
       "      <td>N</td>\n",
       "      <td>F</td>\n",
       "      <td>86</td>\n",
       "      <td>NaN</td>\n",
       "      <td>ADRIAN CRESCENT</td>\n",
       "      <td>NaN</td>\n",
       "      <td>SHEFFIELD</td>\n",
       "      <td>SHEFFIELD</td>\n",
       "      <td>SOUTH YORKSHIRE</td>\n",
       "      <td>A</td>\n",
       "      <td>A</td>\n",
       "    </tr>\n",
       "    <tr>\n",
       "      <th>1</th>\n",
       "      <td>{2ACACE8D-48AF-295E-E063-4804A8C0B0EB}</td>\n",
       "      <td>60000</td>\n",
       "      <td>2021-10-07 00:00</td>\n",
       "      <td>S36 2DX</td>\n",
       "      <td>T</td>\n",
       "      <td>N</td>\n",
       "      <td>F</td>\n",
       "      <td>550</td>\n",
       "      <td>NaN</td>\n",
       "      <td>MANCHESTER ROAD</td>\n",
       "      <td>STOCKSBRIDGE</td>\n",
       "      <td>SHEFFIELD</td>\n",
       "      <td>SHEFFIELD</td>\n",
       "      <td>SOUTH YORKSHIRE</td>\n",
       "      <td>A</td>\n",
       "      <td>A</td>\n",
       "    </tr>\n",
       "  </tbody>\n",
       "</table>\n",
       "</div>"
      ],
      "text/plain": [
       "   {2ACACE8D-47C7-295E-E063-4804A8C0B0EB}  114000  2021-02-26 00:00  S63 7FR  \\\n",
       "0  {2ACACE8D-4887-295E-E063-4804A8C0B0EB}  158995  2021-03-11 00:00   S5 8DL   \n",
       "1  {2ACACE8D-48AF-295E-E063-4804A8C0B0EB}   60000  2021-10-07 00:00  S36 2DX   \n",
       "\n",
       "   S  N  L   28 Unnamed: 8        REED WALK WATH UPON DEARNE  ROTHERHAM  \\\n",
       "0  T  N  F   86        NaN  ADRIAN CRESCENT              NaN  SHEFFIELD   \n",
       "1  T  N  F  550        NaN  MANCHESTER ROAD     STOCKSBRIDGE  SHEFFIELD   \n",
       "\n",
       "  ROTHERHAM.1  SOUTH YORKSHIRE  A A.1  \n",
       "0   SHEFFIELD  SOUTH YORKSHIRE  A   A  \n",
       "1   SHEFFIELD  SOUTH YORKSHIRE  A   A  "
      ]
     },
     "execution_count": 9,
     "metadata": {},
     "output_type": "execute_result"
    }
   ],
   "source": [
    "df = pd.read_csv(\"./data/pp-monthly-update-new-version.csv\")\n",
    "df.head(2)"
   ]
  },
  {
   "cell_type": "code",
   "execution_count": 10,
   "id": "53608941-de78-4e5d-9485-068308339602",
   "metadata": {},
   "outputs": [
    {
     "name": "stdout",
     "output_type": "stream",
     "text": [
      "<class 'pandas.core.frame.DataFrame'>\n",
      "RangeIndex: 77790 entries, 0 to 77789\n",
      "Data columns (total 16 columns):\n",
      " #   Column                                  Non-Null Count  Dtype \n",
      "---  ------                                  --------------  ----- \n",
      " 0   {2ACACE8D-47C7-295E-E063-4804A8C0B0EB}  77790 non-null  object\n",
      " 1   114000                                  77790 non-null  int64 \n",
      " 2   2021-02-26 00:00                        77790 non-null  object\n",
      " 3   S63 7FR                                 77576 non-null  object\n",
      " 4   S                                       77790 non-null  object\n",
      " 5   N                                       77790 non-null  object\n",
      " 6   L                                       77790 non-null  object\n",
      " 7   28                                      77790 non-null  object\n",
      " 8   Unnamed: 8                              11407 non-null  object\n",
      " 9   REED WALK                               76549 non-null  object\n",
      " 10  WATH UPON DEARNE                        30409 non-null  object\n",
      " 11  ROTHERHAM                               77790 non-null  object\n",
      " 12  ROTHERHAM.1                             77790 non-null  object\n",
      " 13  SOUTH YORKSHIRE                         77790 non-null  object\n",
      " 14  A                                       77790 non-null  object\n",
      " 15  A.1                                     77790 non-null  object\n",
      "dtypes: int64(1), object(15)\n",
      "memory usage: 9.5+ MB\n"
     ]
    }
   ],
   "source": [
    "df.info()"
   ]
  },
  {
   "cell_type": "markdown",
   "id": "47a6cba9-f2f1-4f6a-b32e-6ceb5cae7cb5",
   "metadata": {},
   "source": [
    "We know this file is meant to be appended to the existing data: there is no header information.\n",
    "\n",
    "We can also see that we have some missing values and that the data types inferred by pandas are not necessarily correct (date for example)."
   ]
  },
  {
   "cell_type": "markdown",
   "id": "9fbf0242-e26b-4423-9f90-f52773571fbc",
   "metadata": {},
   "source": [
    "### Columns\n",
    "\n",
    "Information about the headers can be found [here](https://www.gov.uk/guidance/about-the-price-paid-data#explanations-of-column-headers-in-the-ppd).\n",
    "\n",
    "- `Transaction unique identifier`: A reference number which is generated automatically recording each published sale. The number is unique and will change each time a sale is recorded.\n",
    "- `Price`: Sale price stated on the transfer deed.\n",
    "- `Date of Transfer`: Date when the sale was completed, as stated on the transfer deed.\n",
    "- `Postcode`: This is the postcode used at the time of the original transaction. Note that postcodes can be reallocated and these changes are not reflected in the Price Paid Dataset.\n",
    "- `Property Type`: D = Detached, S = Semi-Detached, T = Terraced, F = Flats/Maisonettes, O = Other\n",
    "Note that: we only record the above categories to describe property type, we do not separately identify bungalows. End-of-terrace properties are included in the Terraced category above. ‘Other’ is only valid where the transaction relates to a property type that is not covered by existing values, for example where a property comprises more than one large parcel of land\n",
    "- `Old/New`: Indicates the age of the property and applies to all price paid transactions, residential and non-residential: Y = a newly built property, N = an established residential building\n",
    "- `Duration`: Relates to the tenure: F = Freehold, L= Leasehold etc. Note that HM Land Registry does not record leases of 7 years or less in the Price Paid Dataset.\n",
    "- `PAON`: Primary Addressable Object Name. Typically the house number or name.\n",
    "- `SAON`: Secondary Addressable Object Name. Where a property has been divided into separate units (for example, flats), the PAON (above) will identify the building and a SAON will be specified that identifies the separate unit/flat.\n",
    "- `Street`\t \n",
    "- `Locality`\t \n",
    "- `Town/City`\t \n",
    "- `District`\t \n",
    "- `County`\t \n",
    "- `PPD Category Type`: Indicates the type of Price Paid transaction. A = Standard Price Paid entry, includes single residential property sold for value. B = Additional Price Paid entry including transfers under a power of sale/repossessions, buy-to-lets (where they can be identified by a Mortgage), transfers to non-private individuals and sales where the property type is classed as ‘Other’. Note that category B does not separately identify the transaction types stated. HM Land Registry has been collecting information on Category A transactions from January 1995. Category B transactions were identified from October 2013.\n",
    "- `Record Status - monthly file only`: Indicates additions, changes and deletions to the records.A = Addition, C = Change, D = Delete. Note that where a transaction changes category type due to misallocation (as above) it will be deleted from the original category type and added to the correct category with a new transaction unique identifier. The single large file and yearly files have amendments and/or deletions applied to the data, ensuring the data is complete, up to date and accurate. Subsequent monthly files may contain amendments if a record is added, changed or deleted. If an amendment is made a status marker will appear at the end of the record to indicate the type of change. You will need to consider this change if you compare month files."
   ]
  },
  {
   "cell_type": "code",
   "execution_count": 14,
   "id": "2860cb03-747f-478e-b1f3-47203413d7fa",
   "metadata": {},
   "outputs": [
    {
     "data": {
      "text/html": [
       "<div>\n",
       "<style scoped>\n",
       "    .dataframe tbody tr th:only-of-type {\n",
       "        vertical-align: middle;\n",
       "    }\n",
       "\n",
       "    .dataframe tbody tr th {\n",
       "        vertical-align: top;\n",
       "    }\n",
       "\n",
       "    .dataframe thead th {\n",
       "        text-align: right;\n",
       "    }\n",
       "</style>\n",
       "<table border=\"1\" class=\"dataframe\">\n",
       "  <thead>\n",
       "    <tr style=\"text-align: right;\">\n",
       "      <th></th>\n",
       "      <th>transaction_uid</th>\n",
       "      <th>price</th>\n",
       "      <th>date_of_transfer</th>\n",
       "      <th>postcode</th>\n",
       "      <th>property_type</th>\n",
       "      <th>is_new_build</th>\n",
       "      <th>tenure_duration</th>\n",
       "      <th>paon</th>\n",
       "      <th>saon</th>\n",
       "      <th>street</th>\n",
       "      <th>locality</th>\n",
       "      <th>town_city</th>\n",
       "      <th>district</th>\n",
       "      <th>county</th>\n",
       "      <th>transaction_type</th>\n",
       "      <th>record_status</th>\n",
       "    </tr>\n",
       "  </thead>\n",
       "  <tbody>\n",
       "    <tr>\n",
       "      <th>0</th>\n",
       "      <td>{2ACACE8D-47C7-295E-E063-4804A8C0B0EB}</td>\n",
       "      <td>114000</td>\n",
       "      <td>2021-02-26</td>\n",
       "      <td>S63 7FR</td>\n",
       "      <td>S</td>\n",
       "      <td>N</td>\n",
       "      <td>L</td>\n",
       "      <td>28</td>\n",
       "      <td>NaN</td>\n",
       "      <td>REED WALK</td>\n",
       "      <td>WATH UPON DEARNE</td>\n",
       "      <td>ROTHERHAM</td>\n",
       "      <td>ROTHERHAM</td>\n",
       "      <td>SOUTH YORKSHIRE</td>\n",
       "      <td>A</td>\n",
       "      <td>A</td>\n",
       "    </tr>\n",
       "    <tr>\n",
       "      <th>1</th>\n",
       "      <td>{2ACACE8D-4887-295E-E063-4804A8C0B0EB}</td>\n",
       "      <td>158995</td>\n",
       "      <td>2021-03-11</td>\n",
       "      <td>S5 8DL</td>\n",
       "      <td>T</td>\n",
       "      <td>N</td>\n",
       "      <td>F</td>\n",
       "      <td>86</td>\n",
       "      <td>NaN</td>\n",
       "      <td>ADRIAN CRESCENT</td>\n",
       "      <td>NaN</td>\n",
       "      <td>SHEFFIELD</td>\n",
       "      <td>SHEFFIELD</td>\n",
       "      <td>SOUTH YORKSHIRE</td>\n",
       "      <td>A</td>\n",
       "      <td>A</td>\n",
       "    </tr>\n",
       "  </tbody>\n",
       "</table>\n",
       "</div>"
      ],
      "text/plain": [
       "                          transaction_uid   price date_of_transfer postcode  \\\n",
       "0  {2ACACE8D-47C7-295E-E063-4804A8C0B0EB}  114000       2021-02-26  S63 7FR   \n",
       "1  {2ACACE8D-4887-295E-E063-4804A8C0B0EB}  158995       2021-03-11   S5 8DL   \n",
       "\n",
       "  property_type is_new_build tenure_duration paon saon           street  \\\n",
       "0             S            N               L   28  NaN        REED WALK   \n",
       "1             T            N               F   86  NaN  ADRIAN CRESCENT   \n",
       "\n",
       "           locality  town_city   district           county transaction_type  \\\n",
       "0  WATH UPON DEARNE  ROTHERHAM  ROTHERHAM  SOUTH YORKSHIRE                A   \n",
       "1               NaN  SHEFFIELD  SHEFFIELD  SOUTH YORKSHIRE                A   \n",
       "\n",
       "  record_status  \n",
       "0             A  \n",
       "1             A  "
      ]
     },
     "execution_count": 14,
     "metadata": {},
     "output_type": "execute_result"
    }
   ],
   "source": [
    "header = [\"transaction_uid\", \"price\", \"date_of_transfer\", \"postcode\", \"property_type\", \"is_new_build\", \n",
    "          \"tenure_duration\", \"paon\", \"saon\", \"street\",\"locality\", \"town_city\", \"district\", \"county\", \"transaction_type\", \"record_status\"]\n",
    "\n",
    "df = pd.read_csv(\"./data/pp-monthly-update-new-version.csv\", names=header)\n",
    "df[\"date_of_transfer\"] = pd.to_datetime(df[\"date_of_transfer\"])\n",
    "df.head(2)"
   ]
  },
  {
   "cell_type": "code",
   "execution_count": 15,
   "id": "7648c155-6437-46ad-b8a5-24a1c1007646",
   "metadata": {},
   "outputs": [
    {
     "name": "stdout",
     "output_type": "stream",
     "text": [
      "<class 'pandas.core.frame.DataFrame'>\n",
      "RangeIndex: 77791 entries, 0 to 77790\n",
      "Data columns (total 16 columns):\n",
      " #   Column            Non-Null Count  Dtype         \n",
      "---  ------            --------------  -----         \n",
      " 0   transaction_uid   77791 non-null  object        \n",
      " 1   price             77791 non-null  int64         \n",
      " 2   date_of_transfer  77791 non-null  datetime64[ns]\n",
      " 3   postcode          77577 non-null  object        \n",
      " 4   property_type     77791 non-null  object        \n",
      " 5   is_new_build      77791 non-null  object        \n",
      " 6   tenure_duration   77791 non-null  object        \n",
      " 7   paon              77791 non-null  object        \n",
      " 8   saon              11407 non-null  object        \n",
      " 9   street            76550 non-null  object        \n",
      " 10  locality          30410 non-null  object        \n",
      " 11  town_city         77791 non-null  object        \n",
      " 12  district          77791 non-null  object        \n",
      " 13  county            77791 non-null  object        \n",
      " 14  transaction_type  77791 non-null  object        \n",
      " 15  record_status     77791 non-null  object        \n",
      "dtypes: datetime64[ns](1), int64(1), object(14)\n",
      "memory usage: 9.5+ MB\n"
     ]
    }
   ],
   "source": [
    "df.info()"
   ]
  },
  {
   "cell_type": "markdown",
   "id": "6e40a31c-3423-431e-92a4-4ea8d8a3c8e5",
   "metadata": {},
   "source": [
    "## Numerical data\n",
    "\n",
    "The only numerical column is `price`."
   ]
  },
  {
   "cell_type": "code",
   "execution_count": 21,
   "id": "76edd441-dc70-403b-89aa-5d770e68180b",
   "metadata": {},
   "outputs": [
    {
     "data": {
      "text/plain": [
       "count       77791.00\n",
       "mean       390062.15\n",
       "std       1546450.19\n",
       "min           100.00\n",
       "25%        185000.00\n",
       "50%        281000.00\n",
       "75%        424995.00\n",
       "max     312500000.00\n",
       "Name: price, dtype: float64"
      ]
     },
     "execution_count": 21,
     "metadata": {},
     "output_type": "execute_result"
    }
   ],
   "source": [
    "df[\"price\"].describe()"
   ]
  },
  {
   "cell_type": "markdown",
   "id": "1a672999-b0ac-4bc5-8cd9-c03e195fecd9",
   "metadata": {},
   "source": [
    "**Observations**\n",
    "\n",
    "- the average house price is £390,062.20, the median is £281,000\n",
    "- the median < mean indicating that the data is likely right skewed\n",
    "- Most houses are under £424,995\n",
    "- The maximum house price is £312,500,000, suggesting outliers.\n",
    "- The minimum house price value at £100 seems far too low suggesting some error."
   ]
  },
  {
   "cell_type": "markdown",
   "id": "c704545f-c071-4ee8-ba9a-590ce438f226",
   "metadata": {},
   "source": [
    "The boxplot below confirms that we have quite a few outliers and a couple of extreme ones of over £150 million."
   ]
  },
  {
   "cell_type": "code",
   "execution_count": 31,
   "id": "4856ed33-b184-4ee1-9f21-6fae61717ee8",
   "metadata": {},
   "outputs": [
    {
     "data": {
      "image/png": "[encoded data removed]",
      "text/plain": [
       "<Figure size 640x480 with 1 Axes>"
      ]
     },
     "metadata": {},
     "output_type": "display_data"
    }
   ],
   "source": [
    "sns.boxplot(df, x=\"price\")\n",
    "plt.show()"
   ]
  },
  {
   "cell_type": "code",
   "execution_count": 41,
   "id": "b694ddb0-ecc0-421e-b82f-a0971d2d6096",
   "metadata": {},
   "outputs": [
    {
     "data": {
      "text/plain": [
       "(np.float64(185000.0),\n",
       " np.float64(424995.0),\n",
       " np.float64(239995.0),\n",
       " np.float64(-174992.5),\n",
       " np.float64(784987.5))"
      ]
     },
     "execution_count": 41,
     "metadata": {},
     "output_type": "execute_result"
    }
   ],
   "source": [
    "q1,q3 = np.quantile(df[\"price\"], [0.25,0.75])\n",
    "\n",
    "IQR = q3 - q1\n",
    "\n",
    "lower = q1 - (1.5 * IQR)\n",
    "upper = q3 + (1.5 * IQR)\n",
    "\n",
    "q1, q3, IQR, lower, upper"
   ]
  },
  {
   "cell_type": "markdown",
   "id": "e2ce4ebd-f2e1-4eff-8181-b778e0d03253",
   "metadata": {},
   "source": [
    "In the histogram below, I remove the upper outliers to give us a better view of the general distribution of the data. As anticipated it is slightly right skewed."
   ]
  },
  {
   "cell_type": "code",
   "execution_count": 42,
   "id": "46b25c98-de67-45dc-a7ba-d1ad0b1175d4",
   "metadata": {},
   "outputs": [
    {
     "data": {
      "image/png": "[encoded data removed]",
      "text/plain": [
       "<Figure size 640x480 with 1 Axes>"
      ]
     },
     "metadata": {},
     "output_type": "display_data"
    }
   ],
   "source": [
    "sns.histplot(df[df[\"price\"] < upper], x=\"price\")\n",
    "plt.show()"
   ]
  },
  {
   "cell_type": "markdown",
   "id": "2fd5890a-f952-4bd6-bdda-44ea125f2559",
   "metadata": {},
   "source": [
    "### Dates"
   ]
  },
  {
   "cell_type": "code",
   "execution_count": 44,
   "id": "39c109d3-6b65-4996-a83f-1d2ff91bef8d",
   "metadata": {},
   "outputs": [
    {
     "data": {
      "text/plain": [
       "count                            77791\n",
       "mean     2024-04-08 08:21:51.329073920\n",
       "min                1995-01-24 00:00:00\n",
       "25%                2024-04-12 00:00:00\n",
       "50%                2024-11-01 00:00:00\n",
       "75%                2024-11-29 00:00:00\n",
       "max                2024-12-30 00:00:00\n",
       "Name: date_of_transfer, dtype: object"
      ]
     },
     "execution_count": 44,
     "metadata": {},
     "output_type": "execute_result"
    }
   ],
   "source": [
    "df[\"date_of_transfer\"].describe()"
   ]
  },
  {
   "cell_type": "markdown",
   "id": "6b232afb-1a49-4641-b64e-311d7a2c028e",
   "metadata": {},
   "source": [
    "**Observations**\n",
    "\n",
    "I was expecting the dates to fall between 20th November 2024 and 20th December 2024, given the guidance, but we can see that:\n",
    "\n",
    "- the median value for the data is 1st November 2024\n",
    "- there is a date from 1995\n",
    "- the maximum date is 30th December"
   ]
  },
  {
   "cell_type": "code",
   "execution_count": 47,
   "id": "05dd10a6-cebb-4e07-a889-be41cd3591d2",
   "metadata": {},
   "outputs": [
    {
     "data": {
      "image/png": "[encoded data removed]",
      "text/plain": [
       "<Figure size 640x480 with 1 Axes>"
      ]
     },
     "metadata": {},
     "output_type": "display_data"
    }
   ],
   "source": [
    "sns.lineplot(df, x=\"date_of_transfer\", y = \"price\", errorbar=None)\n",
    "plt.show()"
   ]
  },
  {
   "cell_type": "markdown",
   "id": "1bc7af76-2184-4bd8-9260-defce5536e16",
   "metadata": {},
   "source": [
    "We can also see from this snippet that these do not fall solely into the category of changed records (\"C\") but included added records (\"A\") too.\n",
    "\n",
    "The assumption I made is incorrect. The \"A\" category can indicate records added or **reclassified** due to new information becoming available during the latest update, which may include both recent and older sales transactions. So it's not unusual to see transactions from many years ago if those records were previously missing or updated in some way."
   ]
  },
  {
   "cell_type": "code",
   "execution_count": 49,
   "id": "62574a07-5163-4efe-9892-8a46ce751124",
   "metadata": {},
   "outputs": [
    {
     "data": {
      "text/html": [
       "<div>\n",
       "<style scoped>\n",
       "    .dataframe tbody tr th:only-of-type {\n",
       "        vertical-align: middle;\n",
       "    }\n",
       "\n",
       "    .dataframe tbody tr th {\n",
       "        vertical-align: top;\n",
       "    }\n",
       "\n",
       "    .dataframe thead th {\n",
       "        text-align: right;\n",
       "    }\n",
       "</style>\n",
       "<table border=\"1\" class=\"dataframe\">\n",
       "  <thead>\n",
       "    <tr style=\"text-align: right;\">\n",
       "      <th></th>\n",
       "      <th>transaction_uid</th>\n",
       "      <th>price</th>\n",
       "      <th>date_of_transfer</th>\n",
       "      <th>postcode</th>\n",
       "      <th>property_type</th>\n",
       "      <th>is_new_build</th>\n",
       "      <th>tenure_duration</th>\n",
       "      <th>paon</th>\n",
       "      <th>saon</th>\n",
       "      <th>street</th>\n",
       "      <th>locality</th>\n",
       "      <th>town_city</th>\n",
       "      <th>district</th>\n",
       "      <th>county</th>\n",
       "      <th>transaction_type</th>\n",
       "      <th>record_status</th>\n",
       "    </tr>\n",
       "  </thead>\n",
       "  <tbody>\n",
       "    <tr>\n",
       "      <th>3670</th>\n",
       "      <td>{2ACACE8D-5ABB-295E-E063-4804A8C0B0EB}</td>\n",
       "      <td>26000</td>\n",
       "      <td>1995-05-26</td>\n",
       "      <td>SA71 4HL</td>\n",
       "      <td>T</td>\n",
       "      <td>N</td>\n",
       "      <td>F</td>\n",
       "      <td>MELBOURNE COTTAGE</td>\n",
       "      <td>NaN</td>\n",
       "      <td>EAST BACK</td>\n",
       "      <td>NaN</td>\n",
       "      <td>PEMBROKE</td>\n",
       "      <td>PEMBROKESHIRE</td>\n",
       "      <td>PEMBROKESHIRE</td>\n",
       "      <td>A</td>\n",
       "      <td>A</td>\n",
       "    </tr>\n",
       "    <tr>\n",
       "      <th>3673</th>\n",
       "      <td>{2ACACE8C-CC1E-295E-E063-4804A8C0B0EB}</td>\n",
       "      <td>80000</td>\n",
       "      <td>1995-02-28</td>\n",
       "      <td>SS12 9JY</td>\n",
       "      <td>S</td>\n",
       "      <td>N</td>\n",
       "      <td>F</td>\n",
       "      <td>WELLINGTON COTTAGES</td>\n",
       "      <td>4</td>\n",
       "      <td>BURNTMILLS ROAD</td>\n",
       "      <td>NORTH BENFLEET</td>\n",
       "      <td>WICKFORD</td>\n",
       "      <td>BASILDON</td>\n",
       "      <td>ESSEX</td>\n",
       "      <td>A</td>\n",
       "      <td>A</td>\n",
       "    </tr>\n",
       "    <tr>\n",
       "      <th>3674</th>\n",
       "      <td>{2ACACE8D-5AB3-295E-E063-4804A8C0B0EB}</td>\n",
       "      <td>66000</td>\n",
       "      <td>1995-05-12</td>\n",
       "      <td>SA43 2PJ</td>\n",
       "      <td>D</td>\n",
       "      <td>N</td>\n",
       "      <td>F</td>\n",
       "      <td>PARC GLAS</td>\n",
       "      <td>NaN</td>\n",
       "      <td>NaN</td>\n",
       "      <td>LLECHRYD</td>\n",
       "      <td>CARDIGAN</td>\n",
       "      <td>PEMBROKESHIRE</td>\n",
       "      <td>PEMBROKESHIRE</td>\n",
       "      <td>A</td>\n",
       "      <td>A</td>\n",
       "    </tr>\n",
       "    <tr>\n",
       "      <th>3675</th>\n",
       "      <td>{30BDCB63-626C-4ACD-96FF-06D88B266D57}</td>\n",
       "      <td>178500</td>\n",
       "      <td>1995-01-27</td>\n",
       "      <td>B96 6PA</td>\n",
       "      <td>D</td>\n",
       "      <td>N</td>\n",
       "      <td>F</td>\n",
       "      <td>WOODLANDS VIEW</td>\n",
       "      <td>NaN</td>\n",
       "      <td>SAMBOURNE LANE</td>\n",
       "      <td>SAMBOURNE</td>\n",
       "      <td>REDDITCH</td>\n",
       "      <td>STRATFORD-ON-AVON</td>\n",
       "      <td>WARWICKSHIRE</td>\n",
       "      <td>A</td>\n",
       "      <td>C</td>\n",
       "    </tr>\n",
       "    <tr>\n",
       "      <th>3681</th>\n",
       "      <td>{304708EE-75A9-4078-8B11-722E90530BB8}</td>\n",
       "      <td>43500</td>\n",
       "      <td>1995-03-31</td>\n",
       "      <td>SA43 2PJ</td>\n",
       "      <td>D</td>\n",
       "      <td>N</td>\n",
       "      <td>F</td>\n",
       "      <td>THE SMITHY</td>\n",
       "      <td>NaN</td>\n",
       "      <td>NaN</td>\n",
       "      <td>LLECHRYD</td>\n",
       "      <td>CARDIGAN</td>\n",
       "      <td>PEMBROKESHIRE</td>\n",
       "      <td>PEMBROKESHIRE</td>\n",
       "      <td>A</td>\n",
       "      <td>C</td>\n",
       "    </tr>\n",
       "    <tr>\n",
       "      <th>3688</th>\n",
       "      <td>{2A289EA0-C243-CDC8-E050-A8C063054829}</td>\n",
       "      <td>186500</td>\n",
       "      <td>1995-01-24</td>\n",
       "      <td>BD10 9EF</td>\n",
       "      <td>D</td>\n",
       "      <td>N</td>\n",
       "      <td>F</td>\n",
       "      <td>6</td>\n",
       "      <td>NaN</td>\n",
       "      <td>ALBION CLOSE</td>\n",
       "      <td>NaN</td>\n",
       "      <td>BRADFORD</td>\n",
       "      <td>BRADFORD</td>\n",
       "      <td>WEST YORKSHIRE</td>\n",
       "      <td>A</td>\n",
       "      <td>C</td>\n",
       "    </tr>\n",
       "    <tr>\n",
       "      <th>3689</th>\n",
       "      <td>{3ED0C73B-3BD2-4194-A70D-4551780A617B}</td>\n",
       "      <td>54000</td>\n",
       "      <td>1995-04-28</td>\n",
       "      <td>PL11 3EL</td>\n",
       "      <td>T</td>\n",
       "      <td>N</td>\n",
       "      <td>F</td>\n",
       "      <td>LINDEN COTTAGE</td>\n",
       "      <td>NaN</td>\n",
       "      <td>NaN</td>\n",
       "      <td>SHEVIOCK</td>\n",
       "      <td>TORPOINT</td>\n",
       "      <td>CORNWALL</td>\n",
       "      <td>CORNWALL</td>\n",
       "      <td>A</td>\n",
       "      <td>C</td>\n",
       "    </tr>\n",
       "  </tbody>\n",
       "</table>\n",
       "</div>"
      ],
      "text/plain": [
       "                             transaction_uid   price date_of_transfer  \\\n",
       "3670  {2ACACE8D-5ABB-295E-E063-4804A8C0B0EB}   26000       1995-05-26   \n",
       "3673  {2ACACE8C-CC1E-295E-E063-4804A8C0B0EB}   80000       1995-02-28   \n",
       "3674  {2ACACE8D-5AB3-295E-E063-4804A8C0B0EB}   66000       1995-05-12   \n",
       "3675  {30BDCB63-626C-4ACD-96FF-06D88B266D57}  178500       1995-01-27   \n",
       "3681  {304708EE-75A9-4078-8B11-722E90530BB8}   43500       1995-03-31   \n",
       "3688  {2A289EA0-C243-CDC8-E050-A8C063054829}  186500       1995-01-24   \n",
       "3689  {3ED0C73B-3BD2-4194-A70D-4551780A617B}   54000       1995-04-28   \n",
       "\n",
       "      postcode property_type is_new_build tenure_duration  \\\n",
       "3670  SA71 4HL             T            N               F   \n",
       "3673  SS12 9JY             S            N               F   \n",
       "3674  SA43 2PJ             D            N               F   \n",
       "3675   B96 6PA             D            N               F   \n",
       "3681  SA43 2PJ             D            N               F   \n",
       "3688  BD10 9EF             D            N               F   \n",
       "3689  PL11 3EL             T            N               F   \n",
       "\n",
       "                     paon saon           street        locality town_city  \\\n",
       "3670    MELBOURNE COTTAGE  NaN        EAST BACK             NaN  PEMBROKE   \n",
       "3673  WELLINGTON COTTAGES    4  BURNTMILLS ROAD  NORTH BENFLEET  WICKFORD   \n",
       "3674            PARC GLAS  NaN              NaN        LLECHRYD  CARDIGAN   \n",
       "3675       WOODLANDS VIEW  NaN   SAMBOURNE LANE       SAMBOURNE  REDDITCH   \n",
       "3681           THE SMITHY  NaN              NaN        LLECHRYD  CARDIGAN   \n",
       "3688                    6  NaN     ALBION CLOSE             NaN  BRADFORD   \n",
       "3689       LINDEN COTTAGE  NaN              NaN        SHEVIOCK  TORPOINT   \n",
       "\n",
       "               district          county transaction_type record_status  \n",
       "3670      PEMBROKESHIRE   PEMBROKESHIRE                A             A  \n",
       "3673           BASILDON           ESSEX                A             A  \n",
       "3674      PEMBROKESHIRE   PEMBROKESHIRE                A             A  \n",
       "3675  STRATFORD-ON-AVON    WARWICKSHIRE                A             C  \n",
       "3681      PEMBROKESHIRE   PEMBROKESHIRE                A             C  \n",
       "3688           BRADFORD  WEST YORKSHIRE                A             C  \n",
       "3689           CORNWALL        CORNWALL                A             C  "
      ]
     },
     "execution_count": 49,
     "metadata": {},
     "output_type": "execute_result"
    }
   ],
   "source": [
    "df[df[\"date_of_transfer\"] < '1995-06-01']"
   ]
  },
  {
   "cell_type": "markdown",
   "id": "192deba4-5f21-4e28-beaa-ae950f5d8104",
   "metadata": {},
   "source": [
    "### Duplicates\n",
    "\n",
    "Finding duplicates might be  little tricky. What does a duplicate mean in this context?\n",
    "\n",
    "- **All row information the same**\n",
    "There are no duplicates in this monthly digest.\n",
    "\n",
    "- **Duplicate transaction ids**\n",
    "There are none in this monthly data but looking at the data as a whole I would expect to find some transaction_uids with multiple entries if there have been changes for that transaction.\n",
    "\n",
    "- **The same property**\n",
    "Transaction ids reference a published sale. There is no column that provides an easy identifier of a property. In the future, it might be interesting to be able to group data by individual properties to see how the value of that property has changed over the years.\n",
    "\n",
    "A snippet of these can be found below:\n",
    "\n",
    "- `AL10 0AL`: possible mistake, all data is the same except the transaction_id. Given that the date of transfer was the same for both records adn the price is the same and both are additions, it seems like this is a duplicate and one could be deleted.\n",
    "- `AL2 2HT`: In 2020 the price was £620,000. This was recorded as a change and categorised as type \"B\" transaction. There is another entry for this property in 2023 when the price is £655,000. This is recorded as an addition and categorised as a standard price paid entry (\"A\"). I would expect there to be an existing record for the 2020 transaction that should be changed.\n",
    "- `AL2 2QW`: At first this seems confusing: exactly the same property details but with different transaction ids and one recorded as an addition the other as a deletion. The way to handle deletions is to delete the record with the same transaction_uid i.e. there is probably a transaction with `{237B17FD-FC42-22AC-E063-4804A8C0EA3A}` in the historic data that should be deleted. "
   ]
  },
  {
   "cell_type": "markdown",
   "id": "cb8dd95c-ff85-4120-9b8f-681375501f28",
   "metadata": {},
   "source": [
    "**All row information the same**"
   ]
  },
  {
   "cell_type": "code",
   "execution_count": 66,
   "id": "1b45ad35-490c-4603-beed-0e115aa73088",
   "metadata": {},
   "outputs": [
    {
     "data": {
      "text/html": [
       "<div>\n",
       "<style scoped>\n",
       "    .dataframe tbody tr th:only-of-type {\n",
       "        vertical-align: middle;\n",
       "    }\n",
       "\n",
       "    .dataframe tbody tr th {\n",
       "        vertical-align: top;\n",
       "    }\n",
       "\n",
       "    .dataframe thead th {\n",
       "        text-align: right;\n",
       "    }\n",
       "</style>\n",
       "<table border=\"1\" class=\"dataframe\">\n",
       "  <thead>\n",
       "    <tr style=\"text-align: right;\">\n",
       "      <th></th>\n",
       "      <th>transaction_uid</th>\n",
       "      <th>price</th>\n",
       "      <th>date_of_transfer</th>\n",
       "      <th>postcode</th>\n",
       "      <th>property_type</th>\n",
       "      <th>is_new_build</th>\n",
       "      <th>tenure_duration</th>\n",
       "      <th>paon</th>\n",
       "      <th>saon</th>\n",
       "      <th>street</th>\n",
       "      <th>locality</th>\n",
       "      <th>town_city</th>\n",
       "      <th>district</th>\n",
       "      <th>county</th>\n",
       "      <th>transaction_type</th>\n",
       "      <th>record_status</th>\n",
       "    </tr>\n",
       "  </thead>\n",
       "  <tbody>\n",
       "  </tbody>\n",
       "</table>\n",
       "</div>"
      ],
      "text/plain": [
       "Empty DataFrame\n",
       "Columns: [transaction_uid, price, date_of_transfer, postcode, property_type, is_new_build, tenure_duration, paon, saon, street, locality, town_city, district, county, transaction_type, record_status]\n",
       "Index: []"
      ]
     },
     "execution_count": 66,
     "metadata": {},
     "output_type": "execute_result"
    }
   ],
   "source": [
    "df[df.duplicated(keep=False)]"
   ]
  },
  {
   "cell_type": "markdown",
   "id": "020eb967-904a-47fe-bd1e-8e05438b9960",
   "metadata": {},
   "source": [
    "**Duplicate transaction id**"
   ]
  },
  {
   "cell_type": "code",
   "execution_count": 67,
   "id": "c35fb37e-85b3-4485-9e26-3afa795ca9fb",
   "metadata": {},
   "outputs": [
    {
     "data": {
      "text/html": [
       "<div>\n",
       "<style scoped>\n",
       "    .dataframe tbody tr th:only-of-type {\n",
       "        vertical-align: middle;\n",
       "    }\n",
       "\n",
       "    .dataframe tbody tr th {\n",
       "        vertical-align: top;\n",
       "    }\n",
       "\n",
       "    .dataframe thead th {\n",
       "        text-align: right;\n",
       "    }\n",
       "</style>\n",
       "<table border=\"1\" class=\"dataframe\">\n",
       "  <thead>\n",
       "    <tr style=\"text-align: right;\">\n",
       "      <th></th>\n",
       "      <th>transaction_uid</th>\n",
       "      <th>price</th>\n",
       "      <th>date_of_transfer</th>\n",
       "      <th>postcode</th>\n",
       "      <th>property_type</th>\n",
       "      <th>is_new_build</th>\n",
       "      <th>tenure_duration</th>\n",
       "      <th>paon</th>\n",
       "      <th>saon</th>\n",
       "      <th>street</th>\n",
       "      <th>locality</th>\n",
       "      <th>town_city</th>\n",
       "      <th>district</th>\n",
       "      <th>county</th>\n",
       "      <th>transaction_type</th>\n",
       "      <th>record_status</th>\n",
       "    </tr>\n",
       "  </thead>\n",
       "  <tbody>\n",
       "  </tbody>\n",
       "</table>\n",
       "</div>"
      ],
      "text/plain": [
       "Empty DataFrame\n",
       "Columns: [transaction_uid, price, date_of_transfer, postcode, property_type, is_new_build, tenure_duration, paon, saon, street, locality, town_city, district, county, transaction_type, record_status]\n",
       "Index: []"
      ]
     },
     "execution_count": 67,
     "metadata": {},
     "output_type": "execute_result"
    }
   ],
   "source": [
    "df[df.duplicated(subset=[\"transaction_uid\"], keep=False)]"
   ]
  },
  {
   "cell_type": "markdown",
   "id": "c4f3a1ec-d5e3-485c-b57f-688393724d4c",
   "metadata": {},
   "source": [
    "**The same property**"
   ]
  },
  {
   "cell_type": "code",
   "execution_count": 69,
   "id": "489db9a3-f16f-4ce7-bd44-f8d6f36ff1fa",
   "metadata": {},
   "outputs": [
    {
     "data": {
      "text/html": [
       "<div>\n",
       "<style scoped>\n",
       "    .dataframe tbody tr th:only-of-type {\n",
       "        vertical-align: middle;\n",
       "    }\n",
       "\n",
       "    .dataframe tbody tr th {\n",
       "        vertical-align: top;\n",
       "    }\n",
       "\n",
       "    .dataframe thead th {\n",
       "        text-align: right;\n",
       "    }\n",
       "</style>\n",
       "<table border=\"1\" class=\"dataframe\">\n",
       "  <thead>\n",
       "    <tr style=\"text-align: right;\">\n",
       "      <th></th>\n",
       "      <th>transaction_uid</th>\n",
       "      <th>price</th>\n",
       "      <th>date_of_transfer</th>\n",
       "      <th>postcode</th>\n",
       "      <th>property_type</th>\n",
       "      <th>is_new_build</th>\n",
       "      <th>tenure_duration</th>\n",
       "      <th>paon</th>\n",
       "      <th>saon</th>\n",
       "      <th>street</th>\n",
       "      <th>locality</th>\n",
       "      <th>town_city</th>\n",
       "      <th>district</th>\n",
       "      <th>county</th>\n",
       "      <th>transaction_type</th>\n",
       "      <th>record_status</th>\n",
       "    </tr>\n",
       "  </thead>\n",
       "  <tbody>\n",
       "    <tr>\n",
       "      <th>48028</th>\n",
       "      <td>{2ACACE8C-DA2C-295E-E063-4804A8C0B0EB}</td>\n",
       "      <td>410000</td>\n",
       "      <td>2024-11-29</td>\n",
       "      <td>AL10 0AL</td>\n",
       "      <td>S</td>\n",
       "      <td>N</td>\n",
       "      <td>F</td>\n",
       "      <td>2</td>\n",
       "      <td>NaN</td>\n",
       "      <td>WARREN CLOSE</td>\n",
       "      <td>NaN</td>\n",
       "      <td>HATFIELD</td>\n",
       "      <td>WELWYN HATFIELD</td>\n",
       "      <td>HERTFORDSHIRE</td>\n",
       "      <td>A</td>\n",
       "      <td>A</td>\n",
       "    </tr>\n",
       "    <tr>\n",
       "      <th>48029</th>\n",
       "      <td>{2ACACE8C-DA2D-295E-E063-4804A8C0B0EB}</td>\n",
       "      <td>410000</td>\n",
       "      <td>2024-11-29</td>\n",
       "      <td>AL10 0AL</td>\n",
       "      <td>S</td>\n",
       "      <td>N</td>\n",
       "      <td>F</td>\n",
       "      <td>2</td>\n",
       "      <td>NaN</td>\n",
       "      <td>WARREN CLOSE</td>\n",
       "      <td>NaN</td>\n",
       "      <td>HATFIELD</td>\n",
       "      <td>WELWYN HATFIELD</td>\n",
       "      <td>HERTFORDSHIRE</td>\n",
       "      <td>A</td>\n",
       "      <td>A</td>\n",
       "    </tr>\n",
       "    <tr>\n",
       "      <th>4089</th>\n",
       "      <td>{A2479555-CFC4-74C7-E053-6B04A8C0887D}</td>\n",
       "      <td>620000</td>\n",
       "      <td>2020-03-06</td>\n",
       "      <td>AL2 2HT</td>\n",
       "      <td>S</td>\n",
       "      <td>N</td>\n",
       "      <td>F</td>\n",
       "      <td>2B</td>\n",
       "      <td>NaN</td>\n",
       "      <td>THE MALL</td>\n",
       "      <td>PARK STREET</td>\n",
       "      <td>ST ALBANS</td>\n",
       "      <td>ST ALBANS</td>\n",
       "      <td>HERTFORDSHIRE</td>\n",
       "      <td>B</td>\n",
       "      <td>C</td>\n",
       "    </tr>\n",
       "    <tr>\n",
       "      <th>10991</th>\n",
       "      <td>{2ACACE8C-DC4D-295E-E063-4804A8C0B0EB}</td>\n",
       "      <td>655000</td>\n",
       "      <td>2023-09-28</td>\n",
       "      <td>AL2 2HT</td>\n",
       "      <td>S</td>\n",
       "      <td>N</td>\n",
       "      <td>F</td>\n",
       "      <td>2B</td>\n",
       "      <td>NaN</td>\n",
       "      <td>THE MALL</td>\n",
       "      <td>PARK STREET</td>\n",
       "      <td>ST ALBANS</td>\n",
       "      <td>ST ALBANS</td>\n",
       "      <td>HERTFORDSHIRE</td>\n",
       "      <td>A</td>\n",
       "      <td>A</td>\n",
       "    </tr>\n",
       "    <tr>\n",
       "      <th>51218</th>\n",
       "      <td>{2ACACE8C-DAF0-295E-E063-4804A8C0B0EB}</td>\n",
       "      <td>1585000</td>\n",
       "      <td>2024-01-08</td>\n",
       "      <td>AL2 2QW</td>\n",
       "      <td>D</td>\n",
       "      <td>N</td>\n",
       "      <td>F</td>\n",
       "      <td>52</td>\n",
       "      <td>NaN</td>\n",
       "      <td>MAYFLOWER ROAD</td>\n",
       "      <td>PARK STREET</td>\n",
       "      <td>ST ALBANS</td>\n",
       "      <td>ST ALBANS</td>\n",
       "      <td>HERTFORDSHIRE</td>\n",
       "      <td>A</td>\n",
       "      <td>A</td>\n",
       "    </tr>\n",
       "    <tr>\n",
       "      <th>77718</th>\n",
       "      <td>{237B17FD-FC42-22AC-E063-4804A8C0EA3A}</td>\n",
       "      <td>1585000</td>\n",
       "      <td>2024-01-08</td>\n",
       "      <td>AL2 2QW</td>\n",
       "      <td>D</td>\n",
       "      <td>N</td>\n",
       "      <td>F</td>\n",
       "      <td>52</td>\n",
       "      <td>NaN</td>\n",
       "      <td>MAYFLOWER ROAD</td>\n",
       "      <td>PARK STREET</td>\n",
       "      <td>ST ALBANS</td>\n",
       "      <td>ST ALBANS</td>\n",
       "      <td>HERTFORDSHIRE</td>\n",
       "      <td>A</td>\n",
       "      <td>D</td>\n",
       "    </tr>\n",
       "  </tbody>\n",
       "</table>\n",
       "</div>"
      ],
      "text/plain": [
       "                              transaction_uid    price date_of_transfer  \\\n",
       "48028  {2ACACE8C-DA2C-295E-E063-4804A8C0B0EB}   410000       2024-11-29   \n",
       "48029  {2ACACE8C-DA2D-295E-E063-4804A8C0B0EB}   410000       2024-11-29   \n",
       "4089   {A2479555-CFC4-74C7-E053-6B04A8C0887D}   620000       2020-03-06   \n",
       "10991  {2ACACE8C-DC4D-295E-E063-4804A8C0B0EB}   655000       2023-09-28   \n",
       "51218  {2ACACE8C-DAF0-295E-E063-4804A8C0B0EB}  1585000       2024-01-08   \n",
       "77718  {237B17FD-FC42-22AC-E063-4804A8C0EA3A}  1585000       2024-01-08   \n",
       "\n",
       "       postcode property_type is_new_build tenure_duration paon saon  \\\n",
       "48028  AL10 0AL             S            N               F    2  NaN   \n",
       "48029  AL10 0AL             S            N               F    2  NaN   \n",
       "4089    AL2 2HT             S            N               F   2B  NaN   \n",
       "10991   AL2 2HT             S            N               F   2B  NaN   \n",
       "51218   AL2 2QW             D            N               F   52  NaN   \n",
       "77718   AL2 2QW             D            N               F   52  NaN   \n",
       "\n",
       "               street     locality  town_city         district         county  \\\n",
       "48028    WARREN CLOSE          NaN   HATFIELD  WELWYN HATFIELD  HERTFORDSHIRE   \n",
       "48029    WARREN CLOSE          NaN   HATFIELD  WELWYN HATFIELD  HERTFORDSHIRE   \n",
       "4089         THE MALL  PARK STREET  ST ALBANS        ST ALBANS  HERTFORDSHIRE   \n",
       "10991        THE MALL  PARK STREET  ST ALBANS        ST ALBANS  HERTFORDSHIRE   \n",
       "51218  MAYFLOWER ROAD  PARK STREET  ST ALBANS        ST ALBANS  HERTFORDSHIRE   \n",
       "77718  MAYFLOWER ROAD  PARK STREET  ST ALBANS        ST ALBANS  HERTFORDSHIRE   \n",
       "\n",
       "      transaction_type record_status  \n",
       "48028                A             A  \n",
       "48029                A             A  \n",
       "4089                 B             C  \n",
       "10991                A             A  \n",
       "51218                A             A  \n",
       "77718                A             D  "
      ]
     },
     "execution_count": 69,
     "metadata": {},
     "output_type": "execute_result"
    }
   ],
   "source": [
    "df[df.duplicated(subset=[\"postcode\", \"paon\", \"saon\"], keep=False)].sort_values(by=\"postcode\").head(6)"
   ]
  },
  {
   "cell_type": "code",
   "execution_count": 57,
   "id": "53ade711-23b6-468b-9188-e0b4823d4cd2",
   "metadata": {},
   "outputs": [
    {
     "data": {
      "text/plain": [
       "77791"
      ]
     },
     "execution_count": 57,
     "metadata": {},
     "output_type": "execute_result"
    }
   ],
   "source": [
    "len(df)"
   ]
  },
  {
   "cell_type": "markdown",
   "id": "c0ef8b85-e954-4e0c-b7e1-68e65877a94b",
   "metadata": {},
   "source": [
    "## Categorical data\n",
    "\n",
    "Most of our data is categorical in nature.\n",
    "\n",
    "There is a unique `transaction_uid` for every row in the dataset."
   ]
  },
  {
   "cell_type": "code",
   "execution_count": 56,
   "id": "b69527ba-709a-413b-a265-c488c0ceab9b",
   "metadata": {},
   "outputs": [
    {
     "data": {
      "text/plain": [
       "transaction_uid     77791\n",
       "postcode            65162\n",
       "property_type           5\n",
       "is_new_build            2\n",
       "tenure_duration         2\n",
       "paon                10805\n",
       "saon                 1849\n",
       "street              41109\n",
       "locality             7241\n",
       "town_city            1110\n",
       "district              318\n",
       "county                113\n",
       "transaction_type        2\n",
       "record_status           3\n",
       "dtype: int64"
      ]
     },
     "execution_count": 56,
     "metadata": {},
     "output_type": "execute_result"
    }
   ],
   "source": [
    "categorical = ['transaction_uid','postcode',\n",
    "       'property_type', 'is_new_build', 'tenure_duration', 'paon', 'saon',\n",
    "       'street', 'locality', 'town_city', 'district', 'county',\n",
    "       'transaction_type', 'record_status']\n",
    "\n",
    "df[categorical].nunique()"
   ]
  },
  {
   "cell_type": "markdown",
   "id": "2221c021-0699-4729-a34a-180e77763ec9",
   "metadata": {},
   "source": [
    "### Property type"
   ]
  },
  {
   "cell_type": "code",
   "execution_count": 84,
   "id": "17de9385-6e2e-4171-8df7-2a4c5c866159",
   "metadata": {},
   "outputs": [],
   "source": [
    "def get_value_counts(label, mapping, normalize=True):\n",
    "    df_label_count = df[label].value_counts().to_frame().reset_index()\n",
    "    df_label_normalize = df[label].value_counts(normalize=True).to_frame().reset_index()\n",
    "    df_label = df_label_count.merge(df_label_normalize, on=label, how=\"inner\")\n",
    "    df_label[\"verbose\"] = df_label[label].map(mapping)\n",
    "    return df_label"
   ]
  },
  {
   "cell_type": "code",
   "execution_count": 85,
   "id": "3bfb53c0-9abc-497e-a055-3de4da45856c",
   "metadata": {},
   "outputs": [
    {
     "data": {
      "text/html": [
       "<div>\n",
       "<style scoped>\n",
       "    .dataframe tbody tr th:only-of-type {\n",
       "        vertical-align: middle;\n",
       "    }\n",
       "\n",
       "    .dataframe tbody tr th {\n",
       "        vertical-align: top;\n",
       "    }\n",
       "\n",
       "    .dataframe thead th {\n",
       "        text-align: right;\n",
       "    }\n",
       "</style>\n",
       "<table border=\"1\" class=\"dataframe\">\n",
       "  <thead>\n",
       "    <tr style=\"text-align: right;\">\n",
       "      <th></th>\n",
       "      <th>property_type</th>\n",
       "      <th>count</th>\n",
       "      <th>proportion</th>\n",
       "      <th>verbose</th>\n",
       "    </tr>\n",
       "  </thead>\n",
       "  <tbody>\n",
       "    <tr>\n",
       "      <th>0</th>\n",
       "      <td>S</td>\n",
       "      <td>20814</td>\n",
       "      <td>0.27</td>\n",
       "      <td>Semi-Detached</td>\n",
       "    </tr>\n",
       "    <tr>\n",
       "      <th>1</th>\n",
       "      <td>T</td>\n",
       "      <td>19839</td>\n",
       "      <td>0.26</td>\n",
       "      <td>Terraced</td>\n",
       "    </tr>\n",
       "    <tr>\n",
       "      <th>2</th>\n",
       "      <td>D</td>\n",
       "      <td>18220</td>\n",
       "      <td>0.23</td>\n",
       "      <td>Detached</td>\n",
       "    </tr>\n",
       "    <tr>\n",
       "      <th>3</th>\n",
       "      <td>F</td>\n",
       "      <td>15142</td>\n",
       "      <td>0.19</td>\n",
       "      <td>Flats/Maisonettes</td>\n",
       "    </tr>\n",
       "    <tr>\n",
       "      <th>4</th>\n",
       "      <td>O</td>\n",
       "      <td>3776</td>\n",
       "      <td>0.05</td>\n",
       "      <td>Other</td>\n",
       "    </tr>\n",
       "  </tbody>\n",
       "</table>\n",
       "</div>"
      ],
      "text/plain": [
       "  property_type  count  proportion            verbose\n",
       "0             S  20814        0.27      Semi-Detached\n",
       "1             T  19839        0.26           Terraced\n",
       "2             D  18220        0.23           Detached\n",
       "3             F  15142        0.19  Flats/Maisonettes\n",
       "4             O   3776        0.05              Other"
      ]
     },
     "execution_count": 85,
     "metadata": {},
     "output_type": "execute_result"
    }
   ],
   "source": [
    "p_type_map = {'D': 'Detached', 'S': 'Semi-Detached', 'T':'Terraced', 'F' :'Flats/Maisonettes', 'O' :'Other'}\n",
    "\n",
    "df_property_type = get_value_counts(\"property_type\", p_type_map)\n",
    "df_property_type"
   ]
  },
  {
   "cell_type": "code",
   "execution_count": 87,
   "id": "6e3b8a44-3350-4177-8371-c9dbd06200e1",
   "metadata": {},
   "outputs": [
    {
     "data": {
      "image/png": "[encoded data removed]",
      "text/plain": [
       "<Figure size 640x480 with 1 Axes>"
      ]
     },
     "metadata": {},
     "output_type": "display_data"
    }
   ],
   "source": [
    "sns.barplot(df_property_type, x=\"verbose\", y=\"proportion\")\n",
    "plt.xlabel(\"Property Type\")\n",
    "plt.show()"
   ]
  },
  {
   "cell_type": "markdown",
   "id": "1c1383cb-a97d-4b85-b900-5cfad80388ac",
   "metadata": {},
   "source": [
    "**Observation**\n",
    "- there are only 5 types in this category, which confirms the data definition\n",
    "- Most are semi-detached but they are generally spread quite evenly across the top 4 categories\n",
    "- Other is the least used category"
   ]
  },
  {
   "cell_type": "markdown",
   "id": "8f5e8603-728e-45cd-8b22-944fc9da521c",
   "metadata": {},
   "source": [
    "### Is new build"
   ]
  },
  {
   "cell_type": "code",
   "execution_count": 96,
   "id": "57f6ce83-2832-47bb-b79c-d99df4836ebc",
   "metadata": {},
   "outputs": [
    {
     "data": {
      "text/plain": [
       "is_new_build\n",
       "N   0.86\n",
       "Y   0.14\n",
       "Name: proportion, dtype: float64"
      ]
     },
     "execution_count": 96,
     "metadata": {},
     "output_type": "execute_result"
    }
   ],
   "source": [
    "df[\"is_new_build\"].value_counts(normalize=True)"
   ]
  },
  {
   "cell_type": "code",
   "execution_count": 104,
   "id": "8679f194-a9f4-4cfd-8fee-d31308916374",
   "metadata": {},
   "outputs": [
    {
     "data": {
      "text/plain": [
       "is_new_build_bool\n",
       "0   0.86\n",
       "1   0.14\n",
       "Name: proportion, dtype: float64"
      ]
     },
     "execution_count": 104,
     "metadata": {},
     "output_type": "execute_result"
    }
   ],
   "source": [
    "df[\"is_new_build_bool\"] = (df[\"is_new_build\"] == \"Y\").astype(int)\n",
    "df[\"is_new_build_bool\"].value_counts(normalize=True)"
   ]
  },
  {
   "cell_type": "code",
   "execution_count": 95,
   "id": "568cef36-8d28-4d5c-b5f7-8bf14ebcd9a0",
   "metadata": {},
   "outputs": [
    {
     "data": {
      "image/png": "[encoded data removed]",
      "text/plain": [
       "<Figure size 640x480 with 1 Axes>"
      ]
     },
     "metadata": {},
     "output_type": "display_data"
    }
   ],
   "source": [
    "df[\"year_of_transfer\"] = df[\"date_of_transfer\"].dt.year\n",
    "\n",
    "sns.countplot(df, x=\"year_of_transfer\", hue=\"is_new_build\")\n",
    "plt.xticks(rotation=45)\n",
    "plt.show()"
   ]
  },
  {
   "cell_type": "code",
   "execution_count": 107,
   "id": "e4a4f3ec-7507-448a-b955-297cf7627b0d",
   "metadata": {},
   "outputs": [
    {
     "data": {
      "text/plain": [
       "year_of_transfer\n",
       "1995       0\n",
       "1996       1\n",
       "1997       2\n",
       "1998       8\n",
       "1999       4\n",
       "2000       6\n",
       "2001       4\n",
       "2002       4\n",
       "2003       2\n",
       "2004      10\n",
       "2005       7\n",
       "2006       7\n",
       "2007       4\n",
       "2008       2\n",
       "2009       5\n",
       "2010       7\n",
       "2011       4\n",
       "2012       1\n",
       "2013       3\n",
       "2014       3\n",
       "2015       0\n",
       "2016       2\n",
       "2017       5\n",
       "2018       5\n",
       "2019      40\n",
       "2020     124\n",
       "2021     392\n",
       "2022     819\n",
       "2023    4598\n",
       "2024    4946\n",
       "Name: is_new_build_bool, dtype: int64"
      ]
     },
     "execution_count": 107,
     "metadata": {},
     "output_type": "execute_result"
    }
   ],
   "source": [
    "df.groupby(\"year_of_transfer\")[\"is_new_build_bool\"].sum()"
   ]
  },
  {
   "cell_type": "markdown",
   "id": "fbcca2ab-58a0-4611-b5de-a951f9dc9afa",
   "metadata": {},
   "source": [
    "**Observations**\n",
    "\n",
    "- 86% of our data is related to established properties, not new builds\n",
    "- Most of the new build data is from the last few years "
   ]
  },
  {
   "cell_type": "code",
   "execution_count": null,
   "id": "8d9553d1-935b-44fb-898b-498814348f95",
   "metadata": {},
   "outputs": [],
   "source": []
  }
 ],
 "metadata": {
  "kernelspec": {
   "display_name": "Python [conda env:pandas]",
   "language": "python",
   "name": "conda-env-pandas-py"
  },
  "language_info": {
   "codemirror_mode": {
    "name": "ipython",
    "version": 3
   },
   "file_extension": ".py",
   "mimetype": "text/x-python",
   "name": "python",
   "nbconvert_exporter": "python",
   "pygments_lexer": "ipython3",
   "version": "3.11.10"
  }
 },
 "nbformat": 4,
 "nbformat_minor": 5
}
